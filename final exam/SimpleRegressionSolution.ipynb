{
 "cells": [
  {
   "cell_type": "code",
   "execution_count": 1,
   "metadata": {},
   "outputs": [],
   "source": [
    "import numpy as np\n",
    "from sklearn.linear_model import LinearRegression\n",
    "X = np.array([1,2,3,4])\n",
    "y = np.array([9,13,14,18])"
   ]
  },
  {
   "cell_type": "code",
   "execution_count": 2,
   "metadata": {},
   "outputs": [
    {
     "data": {
      "text/plain": [
       "LinearRegression(copy_X=True, fit_intercept=True, n_jobs=1, normalize=False)"
      ]
     },
     "execution_count": 2,
     "metadata": {},
     "output_type": "execute_result"
    }
   ],
   "source": [
    "#home-made linear regression model\n",
    "\n",
    "def estimate_coef(x, y): \n",
    "    n = np.size(x)\n",
    "    avg_x, avg_y = np.mean(x), np.mean(y) \n",
    "    \n",
    "    b_1 = (np.sum(y*x) - n*avg_y*avg_x)/(np.sum(x*x) - n*avg_x*avg_x)\n",
    "    b_0 = avg_y - b_1*avg_x \n",
    "    \n",
    "    return(b_0, b_1)\n",
    "\n",
    "def lm_hand_made(x,y):\n",
    "    \n",
    "    b = estimate_coef(x,y)\n",
    "    y_pred = b[0]+b[1]*x\n",
    "    \n",
    "    return(y_pred)\n",
    "\n",
    "b = estimate_coef(X, y)\n",
    "\n",
    "#From Scikit-Learn linear regression model\n",
    "lm = LinearRegression()\n",
    "\n",
    "#X.reshape(-1, 1)\n",
    "#y.reshape(-1, 1)\n",
    "lm.fit(X.reshape(-1, 1),y.reshape(-1, 1))\n"
   ]
  },
  {
   "cell_type": "code",
   "execution_count": 3,
   "metadata": {},
   "outputs": [
    {
     "name": "stdout",
     "output_type": "stream",
     "text": [
      "From home-made linear regression model\n",
      "beta0: 6.5\n",
      "beta1: 2.8\n",
      "From Scikit-Learn linear regression model\n",
      " 6.5\n",
      "[2.8]\n"
     ]
    }
   ],
   "source": [
    "print('From home-made linear regression model\\nbeta0: %1.1f\\nbeta1: %1.1f'%(b[0],b[1]))\n",
    "print('From Scikit-Learn linear regression model\\n','%1.1f\\n[%1.1f]'%(lm.intercept_,lm.coef_))"
   ]
  },
  {
   "cell_type": "code",
   "execution_count": null,
   "metadata": {},
   "outputs": [],
   "source": []
  }
 ],
 "metadata": {
  "kernelspec": {
   "display_name": "Python 3",
   "language": "python",
   "name": "python3"
  },
  "language_info": {
   "codemirror_mode": {
    "name": "ipython",
    "version": 3
   },
   "file_extension": ".py",
   "mimetype": "text/x-python",
   "name": "python",
   "nbconvert_exporter": "python",
   "pygments_lexer": "ipython3",
   "version": "3.6.5"
  }
 },
 "nbformat": 4,
 "nbformat_minor": 2
}
